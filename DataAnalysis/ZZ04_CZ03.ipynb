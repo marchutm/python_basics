{
 "cells": [
  {
   "cell_type": "markdown",
   "id": "6dcb1596",
   "metadata": {
    "deletable": false,
    "editable": false,
    "nbgrader": {
     "cell_type": "markdown",
     "checksum": "de5d2954ee53a96e0e5fe7d13e6051d7",
     "grade": false,
     "grade_id": "cell-fcd2666579131b77",
     "locked": true,
     "schema_version": 3,
     "solution": false,
     "task": false
    },
    "tags": []
   },
   "source": [
    "# Analiza danych przestrzennych - ćwiczenia laboratoryjne 2023/2024\n",
    "\n",
    "Ten notatnik zalicza się do grupy zestawów zadań, na podstawie których odbywa się zaliczenie ćwiczeń i podlega zwrotowi do oceny w ustalonym na zajęciach terminie.\n",
    "\n",
    "Uwagi i wytyczne ogólne dotyczące uzupełniania i oceny notatnika:\n",
    "- Podczas wykonywania zadań należy korzystać wyłącznie z pakietów zaimportowanych na początku notatnika oraz z pakietów wchodzących w skład standardowej biblioteki Pythona, które można zaimportować samodzielnie we wskazanej komórce notatnika.\n",
    "- Swoje rozwiązania należy wprowadzać wyłącznie w miejce następujących fragmentów kodu:<br/> `# YOUR CODE HERE`<br/> `raise NotImplementedError()`<br/> \n",
    "a odpowiedzi tekstowe w komórkach oznaczonych hasłem:<br/> \n",
    "`YOUR ANSWER HERE`<br/> \n",
    "Nie należy w żaden sposób modyfikować pozostałych fragmentów kodu oraz innych elementów notatnika, w szczególności dodawać lub usuwać komórek oraz zmieniać nazwy pliku.\n",
    "- Jeżeli zestaw zadań wymaga skorzystania z fragmentów kodu opracowanego w ramach wcześniejszych zestawów zadań należy je umieścić we wskazanej komórce notatnika.\n",
    "- Otrzymywane wyniki i odpowiedzi mają być rezultatem wykonania napisanego kodu, odpowiedzi uzupełniane manualnie nie podlegają ocenie.\n",
    "- Zawarte w notatniku automatyczne testy mają charakter poglądowy. Dotyczą one wybranych aspektów zadań i mają na celu wyłapać podstawowe błędy. Przejście przez kod wszystkich testów nie oznacza, że zadanie jest wykonane w całości poprawnie i zostanie ocenione na maksymalną liczbę punktów.\n",
    "- Zadania należy wykonać w taki sposób, aby podczas wykonywania kodu nie zostały wyświetlone żadne ostrzeżenia.\n",
    "- Zadania, które powodują wyświetlenie komunikatu o błędzie przerywającym wykonywanie kodu nie podlegają ocenie.\n",
    "\n",
    "Uwagi i wytyczne ogólne dotyczące wizualizacji wyników:\n",
    "- Wszystkie wykresy powinny być wykonane w jednolitym, przejrzystym i czytelnym stylu, posiadać odpowiednio dobrane proporcje i zakresy wartości osi.\n",
    "- Figury powinny mieć ustawione białe tło, tak, aby niezależnie od ustawień notatnika wszystkie elementy wykresów były dobrze widoczne (domyślnie tło jest przeźroczyste co może powodować problemy w notatnikach z ustawionym ciemnym tłem). Rozmiar poziomy figur nie powinien przekraczać 20 cali.\n",
    "- Wykresy oraz ich osie powinny mieć nadane tytuły. Jeżeli w obrębie figury znajduje się więcej niż jeden wykres to figura również powinna mieć nadany tytuł.\n",
    "\n",
    "Przed odesłaniem zestawu zadań do oceny proszę uzupełnić komórkę z danymi autorów rozwiązania (nazwa zespołu oraz imiona, nazwiska i numery indeksów członków zespołu) oraz upewnić się, że notatnik działa zgodnie z oczekiwaniami. W tym celu należy skorzystać z opcji **Restart Kernel and Run All Cells...** dostępnej na górnej belce notatnika pod symbolem $\\blacktriangleright\\blacktriangleright$."
   ]
  },
  {
   "cell_type": "markdown",
   "id": "49f37361",
   "metadata": {},
   "source": [
    "Nazwa zespołu: IAD22\n",
    "Członkowie: Michał Terefenko, Michał Wardziński, Mikołaj Zawadzki, Mikołaj Marchut"
   ]
  },
  {
   "cell_type": "markdown",
   "id": "a2330e14",
   "metadata": {
    "deletable": false,
    "editable": false,
    "nbgrader": {
     "cell_type": "markdown",
     "checksum": "eddc8826810e4a6f7bf68319da334bd9",
     "grade": false,
     "grade_id": "cell-109006d425e5cf83",
     "locked": true,
     "schema_version": 3,
     "solution": false,
     "task": false
    },
    "tags": []
   },
   "source": [
    "---"
   ]
  },
  {
   "cell_type": "markdown",
   "id": "f144a493-e1e1-4431-91e0-9ae0bb59c737",
   "metadata": {
    "deletable": false,
    "editable": false,
    "nbgrader": {
     "cell_type": "markdown",
     "checksum": "41a5d121a0eba23d3ede88e28b3cba3c",
     "grade": false,
     "grade_id": "cell-a3bee1a903bc756d",
     "locked": true,
     "schema_version": 3,
     "solution": false,
     "task": false
    },
    "tags": []
   },
   "source": [
    "## Zestaw zadań 4: Wybrane teoretyczne rozkłady prawdopodobieństwa oraz elementy teorii estymacji (Notatnik 3/3)"
   ]
  },
  {
   "cell_type": "code",
   "execution_count": 1,
   "id": "69823c01-b9eb-45d4-91a2-a7b476181143",
   "metadata": {
    "deletable": false,
    "editable": false,
    "nbgrader": {
     "cell_type": "code",
     "checksum": "8652db8c7bad1a72145426fd366778ef",
     "grade": false,
     "grade_id": "cell-d63cbc800a178457",
     "locked": true,
     "schema_version": 3,
     "solution": false,
     "task": false
    },
    "tags": []
   },
   "outputs": [],
   "source": [
    "import numpy as np\n",
    "import pandas as pd\n",
    "import scipy as sp\n",
    "import matplotlib as mpl\n",
    "import matplotlib.pyplot as plt\n",
    "import seaborn as sns"
   ]
  },
  {
   "cell_type": "code",
   "execution_count": 2,
   "id": "147c5203-89af-4397-94e2-3dea9bde5f89",
   "metadata": {},
   "outputs": [],
   "source": [
    "# Miejsce do importu pakietów wchodzących w skład standardowej biblioteki Pythona oraz ustawienie opcji wykorzystywanych pakietów"
   ]
  },
  {
   "cell_type": "markdown",
   "id": "81462f85-6fe1-4bbf-b87d-86a12be9f5aa",
   "metadata": {
    "deletable": false,
    "editable": false,
    "nbgrader": {
     "cell_type": "markdown",
     "checksum": "84e89a190efb2cf870145f64552dc7df",
     "grade": false,
     "grade_id": "cell-d7f7853a7031633f",
     "locked": true,
     "schema_version": 3,
     "solution": false,
     "task": false
    },
    "tags": []
   },
   "source": [
    "### Dane do zadań\n",
    "\n",
    "W celu wygenerowania danych wykorzystywanych w zawartych w notatniku zadaniach i komórkach testowych wykonaj poniższe komórki."
   ]
  },
  {
   "cell_type": "code",
   "execution_count": 3,
   "id": "cc1bd58c-8762-4155-9aa6-021aab73390c",
   "metadata": {
    "deletable": false,
    "editable": false,
    "nbgrader": {
     "cell_type": "code",
     "checksum": "7a25ae6ac84d46d8f231775cee7d8477",
     "grade": false,
     "grade_id": "cell-4b2616e0f5edabb6",
     "locked": true,
     "schema_version": 3,
     "solution": false,
     "task": false
    },
    "tags": []
   },
   "outputs": [
    {
     "data": {
      "text/html": [
       "<div>\n",
       "<style scoped>\n",
       "    .dataframe tbody tr th:only-of-type {\n",
       "        vertical-align: middle;\n",
       "    }\n",
       "\n",
       "    .dataframe tbody tr th {\n",
       "        vertical-align: top;\n",
       "    }\n",
       "\n",
       "    .dataframe thead th {\n",
       "        text-align: right;\n",
       "    }\n",
       "</style>\n",
       "<table border=\"1\" class=\"dataframe\">\n",
       "  <thead>\n",
       "    <tr style=\"text-align: right;\">\n",
       "      <th></th>\n",
       "      <th>X</th>\n",
       "    </tr>\n",
       "  </thead>\n",
       "  <tbody>\n",
       "    <tr>\n",
       "      <th>0</th>\n",
       "      <td>5.338105</td>\n",
       "    </tr>\n",
       "    <tr>\n",
       "      <th>1</th>\n",
       "      <td>4.906813</td>\n",
       "    </tr>\n",
       "    <tr>\n",
       "      <th>2</th>\n",
       "      <td>5.006564</td>\n",
       "    </tr>\n",
       "    <tr>\n",
       "      <th>3</th>\n",
       "      <td>5.081503</td>\n",
       "    </tr>\n",
       "    <tr>\n",
       "      <th>4</th>\n",
       "      <td>4.842215</td>\n",
       "    </tr>\n",
       "  </tbody>\n",
       "</table>\n",
       "</div>"
      ],
      "text/plain": [
       "          X\n",
       "0  5.338105\n",
       "1  4.906813\n",
       "2  5.006564\n",
       "3  5.081503\n",
       "4  4.842215"
      ]
     },
     "execution_count": 3,
     "metadata": {},
     "output_type": "execute_result"
    }
   ],
   "source": [
    "# Dane do testów 1\n",
    "test_data_1 = pd.DataFrame(data=sp.stats.norm.rvs(loc=5, scale=0.2, size=20, random_state=7), columns=[\"X\"])\n",
    "test_data_1.head()"
   ]
  },
  {
   "cell_type": "code",
   "execution_count": 4,
   "id": "e4c1f4ad-0c8a-4644-9d16-ecea071fd2da",
   "metadata": {
    "deletable": false,
    "editable": false,
    "nbgrader": {
     "cell_type": "code",
     "checksum": "ec7264809ab75dd1758406c3220e8e9f",
     "grade": false,
     "grade_id": "cell-0a7e1bd67f85f7d8",
     "locked": true,
     "schema_version": 3,
     "solution": false,
     "task": false
    },
    "tags": []
   },
   "outputs": [
    {
     "data": {
      "text/html": [
       "<div>\n",
       "<style scoped>\n",
       "    .dataframe tbody tr th:only-of-type {\n",
       "        vertical-align: middle;\n",
       "    }\n",
       "\n",
       "    .dataframe tbody tr th {\n",
       "        vertical-align: top;\n",
       "    }\n",
       "\n",
       "    .dataframe thead th {\n",
       "        text-align: right;\n",
       "    }\n",
       "</style>\n",
       "<table border=\"1\" class=\"dataframe\">\n",
       "  <thead>\n",
       "    <tr style=\"text-align: right;\">\n",
       "      <th></th>\n",
       "      <th>x</th>\n",
       "      <th>y</th>\n",
       "    </tr>\n",
       "  </thead>\n",
       "  <tbody>\n",
       "    <tr>\n",
       "      <th>0</th>\n",
       "      <td>-1.614383</td>\n",
       "      <td>-9.653548</td>\n",
       "    </tr>\n",
       "    <tr>\n",
       "      <th>1</th>\n",
       "      <td>5.801005</td>\n",
       "      <td>8.109542</td>\n",
       "    </tr>\n",
       "    <tr>\n",
       "      <th>2</th>\n",
       "      <td>-1.072962</td>\n",
       "      <td>-7.234931</td>\n",
       "    </tr>\n",
       "    <tr>\n",
       "      <th>3</th>\n",
       "      <td>4.328927</td>\n",
       "      <td>4.561478</td>\n",
       "    </tr>\n",
       "    <tr>\n",
       "      <th>4</th>\n",
       "      <td>-1.861092</td>\n",
       "      <td>-6.031980</td>\n",
       "    </tr>\n",
       "  </tbody>\n",
       "</table>\n",
       "</div>"
      ],
      "text/plain": [
       "          x         y\n",
       "0 -1.614383 -9.653548\n",
       "1  5.801005  8.109542\n",
       "2 -1.072962 -7.234931\n",
       "3  4.328927  4.561478\n",
       "4 -1.861092 -6.031980"
      ]
     },
     "execution_count": 4,
     "metadata": {},
     "output_type": "execute_result"
    }
   ],
   "source": [
    "# Dane do testów 2\n",
    "x = sp.stats.uniform.rvs(loc=-2, scale=10, size=25, random_state=34)\n",
    "y = 2*x - 5 + sp.stats.norm.rvs(loc=0, scale=2, size=25, random_state=13)\n",
    "test_data_2 = pd.DataFrame(data=np.array([x, y]).T, columns=[\"x\", \"y\"])\n",
    "test_data_2.head()"
   ]
  },
  {
   "cell_type": "code",
   "execution_count": 5,
   "id": "3e1aedd0-a042-4c58-a2cb-36fc13e187e3",
   "metadata": {
    "deletable": false,
    "editable": false,
    "nbgrader": {
     "cell_type": "code",
     "checksum": "a0a7cd06f163cdc5237dcd67c6b15842",
     "grade": false,
     "grade_id": "cell-4f514e2325b8dcc2",
     "locked": true,
     "schema_version": 3,
     "solution": false,
     "task": false
    },
    "tags": []
   },
   "outputs": [
    {
     "data": {
      "text/html": [
       "<div>\n",
       "<style scoped>\n",
       "    .dataframe tbody tr th:only-of-type {\n",
       "        vertical-align: middle;\n",
       "    }\n",
       "\n",
       "    .dataframe tbody tr th {\n",
       "        vertical-align: top;\n",
       "    }\n",
       "\n",
       "    .dataframe thead th {\n",
       "        text-align: right;\n",
       "    }\n",
       "</style>\n",
       "<table border=\"1\" class=\"dataframe\">\n",
       "  <thead>\n",
       "    <tr style=\"text-align: right;\">\n",
       "      <th></th>\n",
       "      <th>x</th>\n",
       "      <th>y</th>\n",
       "    </tr>\n",
       "  </thead>\n",
       "  <tbody>\n",
       "    <tr>\n",
       "      <th>0</th>\n",
       "      <td>4.804491</td>\n",
       "      <td>4.379953</td>\n",
       "    </tr>\n",
       "    <tr>\n",
       "      <th>1</th>\n",
       "      <td>3.065440</td>\n",
       "      <td>3.600776</td>\n",
       "    </tr>\n",
       "    <tr>\n",
       "      <th>2</th>\n",
       "      <td>7.543218</td>\n",
       "      <td>-5.774798</td>\n",
       "    </tr>\n",
       "    <tr>\n",
       "      <th>3</th>\n",
       "      <td>-0.817917</td>\n",
       "      <td>11.715536</td>\n",
       "    </tr>\n",
       "    <tr>\n",
       "      <th>4</th>\n",
       "      <td>7.226797</td>\n",
       "      <td>-2.497470</td>\n",
       "    </tr>\n",
       "  </tbody>\n",
       "</table>\n",
       "</div>"
      ],
      "text/plain": [
       "          x          y\n",
       "0  4.804491   4.379953\n",
       "1  3.065440   3.600776\n",
       "2  7.543218  -5.774798\n",
       "3 -0.817917  11.715536\n",
       "4  7.226797  -2.497470"
      ]
     },
     "execution_count": 5,
     "metadata": {},
     "output_type": "execute_result"
    }
   ],
   "source": [
    "# Dane do zadania 7\n",
    "x = sp.stats.uniform.rvs(loc=-3, scale=12, size=50, random_state=18)\n",
    "y = -1.25*x + 7 + sp.stats.norm.rvs(loc=0, scale=3, size=50, random_state=67)\n",
    "data = pd.DataFrame(data=np.array([x, y]).T, columns=[\"x\", \"y\"])\n",
    "data.head()"
   ]
  },
  {
   "cell_type": "markdown",
   "id": "d2883bc1-2b8d-4146-8663-97613a98eaff",
   "metadata": {
    "deletable": false,
    "editable": false,
    "nbgrader": {
     "cell_type": "markdown",
     "checksum": "4d9d15713d62fdb87044757c67b2cd10",
     "grade": false,
     "grade_id": "cell-58242724098404fd",
     "locked": true,
     "schema_version": 3,
     "solution": false,
     "task": false
    },
    "tags": []
   },
   "source": [
    "### Zadanie 7: Estymacja przedziałowa funkcji regresji liniowej [12 pkt]\n",
    "\n",
    "#### a ) Przygotowanie funkcji\n",
    "Przygotuj funkcję `linear_regression_estimation()`, która będzie dokonywała estymacji przedziału ufności i przedziału predykcji regresji liniowej dla danych wejściowych w postaci szeregu szczegółowego.\n",
    "Zaprojektuj funkcję w taki sposób, aby obliczała wartości przedziałów dla 100 wartości x równo rozłożonych od minimalnej do maksymalnej wartości x z danych wejściowych."
   ]
  },
  {
   "cell_type": "code",
   "execution_count": 6,
   "id": "d6c89ed2-a5ef-4f03-85f1-b245d60384b9",
   "metadata": {
    "deletable": false,
    "nbgrader": {
     "cell_type": "code",
     "checksum": "b9a1f4aa753351f114a0a7acfbf35138",
     "grade": false,
     "grade_id": "cell-04dbe3c917594f2b",
     "locked": false,
     "schema_version": 3,
     "solution": true,
     "task": false
    },
    "tags": []
   },
   "outputs": [],
   "source": [
    "def linear_regression_estimation(data, alpha):\n",
    "    \"\"\"\n",
    "    Parameters\n",
    "    -------\n",
    "    data: DataFrame\n",
    "        Tablica zawierająca domyślny indeks i dwie kolumny \"x\" i \"y\" z wynikami próby losowej.\n",
    "    alpha: float\n",
    "        Wartość określająca poziom istotności.\n",
    "    Returns\n",
    "    -------\n",
    "    a: float\n",
    "        Współczynnik równania regresji (slope).\n",
    "    b: float\n",
    "        Współczynnik równania regresji (intercept).\n",
    "    results: DataFrame\n",
    "        Tablica zawierająca domyślny indeks oraz następujące kolumny:\n",
    "        x - wartości zmiennej niezależnaj, dla których określamy granice przedziału,\n",
    "        y_reg - wartości y wyliczone na podstawie wartości x z wykorzystaniem wyliczonego równania regresji liniowej,\n",
    "        ci_high - górne granice przedziału ufności,\n",
    "        ci_low - dolne granice przedziału ufności,\n",
    "        pi_high - górne granice przedziału predykcji,\n",
    "        pi_low - dolne granice przedziału predykcji.\n",
    "    \"\"\"  \n",
    "    Y = sp.stats.linregress(data['x'], data['y'])\n",
    "    a = Y.slope\n",
    "    b = Y.intercept\n",
    "    n = len(data['x'])\n",
    "\n",
    "    x = np.linspace(data['x'].min(), data['x'].max(), 100)\n",
    "    yy = a * data['x'] + b\n",
    "    y_reg = a*x+b\n",
    "    \n",
    "    residuals = data['y'] - yy\n",
    "    su2 = np.sum(residuals**2) / (n - 2) # waraincja resztowa\n",
    "    \n",
    "    mn = data['x'].mean()\n",
    "    Dy = np.sqrt(su2) * np.sqrt((1 / n) + ((x - mn)**2)/np.sum((data['x']-mn)**2))\n",
    "    \n",
    "    ci_high = y_reg + sp.stats.t.ppf(1-alpha/2, n-2) * Dy\n",
    "    ci_low = y_reg - sp.stats.t.ppf(1-alpha/2, n-2) * Dy\n",
    "\n",
    "    Dyp = np.sqrt(su2) * np.sqrt(1 + (1 / n) + (((x - mn)**2)/np.sum((data['x']-mn)**2)))\n",
    "\n",
    "    pi_high = y_reg + sp.stats.t.ppf(1-alpha/2, n-2) * Dyp\n",
    "    pi_low = y_reg - sp.stats.t.ppf(1-alpha/2, n-2) * Dyp\n",
    "\n",
    "    results = pd.DataFrame({'x': x, 'y_reg': y_reg, 'ci_high': ci_high, 'ci_low': ci_low, 'pi_high': pi_high, 'pi_low': pi_low})\n",
    "\n",
    "    return a, b, results"
   ]
  },
  {
   "cell_type": "code",
   "execution_count": 7,
   "id": "ee7ef308-12c4-4beb-867d-d423dff3a090",
   "metadata": {
    "deletable": false,
    "editable": false,
    "nbgrader": {
     "cell_type": "code",
     "checksum": "eb9077cad13965135ca293218558885d",
     "grade": true,
     "grade_id": "cell-ef82e28a9ad30a24",
     "locked": true,
     "points": 7,
     "schema_version": 3,
     "solution": false,
     "task": false
    },
    "tags": []
   },
   "outputs": [],
   "source": [
    "### Komórka testowa\n",
    "a, b , results = linear_regression_estimation(test_data_2, 0.05)\n",
    "assert np.isclose(a, 2.072171435240703)\n",
    "assert np.isclose(b, -4.6260980900060495)\n",
    "assert results.shape == (100, 6)\n",
    "assert len(set(list(results.columns)) & set(['x', 'y_reg', 'ci_high', 'ci_low', 'pi_high', 'pi_low'])) == 6\n",
    "assert np.all(np.isclose(results[['x', 'y_reg', 'ci_high', 'ci_low', 'pi_high', 'pi_low']].min().values, np.array([-1.8657939, -8.49234292, -7.06370958, -9.92097626, -4.39199716, -12.59268868]))) == True\n",
    "assert np.all(np.isclose(results[['x', 'y_reg', 'ci_high', 'ci_low', 'pi_high', 'pi_low']].max().values, np.array([7.4114666, 10.73173129, 12.12260347, 9.34085912, 14.81907365, 6.64438894]))) == True\n",
    "assert np.all(np.isclose(results[['x', 'y_reg', 'ci_high', 'ci_low', 'pi_high', 'pi_low']].mean().values, np.array([2.77283635, 1.11969419, 2.13259929, 0.10678908, 5.09904685, -2.85965848]))) == True"
   ]
  },
  {
   "cell_type": "markdown",
   "id": "187fc372-92da-45dc-8e82-e6b165466c96",
   "metadata": {
    "deletable": false,
    "editable": false,
    "nbgrader": {
     "cell_type": "markdown",
     "checksum": "0feb009344fb71ff84fecc33e7752f33",
     "grade": false,
     "grade_id": "cell-8b3146327680fcea",
     "locked": true,
     "schema_version": 3,
     "solution": false,
     "task": false
    },
    "tags": []
   },
   "source": [
    "#### b) Wykres \n",
    "\n",
    "Wykorzystaj przygotowaną funkcję do wyznaczenia przedziałów na danych ze zmiennej `data` i przedstaw wyniki na pojedynczym wykresie. W obliczeniach przyjmij wybrany przez siebie poziom istotności. \n",
    "\n",
    "Przygotuj figurę zgodnie z wytycznymi z nagłówka notatnika. Dodatkowo:\n",
    "- zawrzyj na wykresie punkty, na których była prowadzona analiza, prostą regresji, granice przedziału ufności oraz granice przedziału predykcji,\n",
    "- wyróżnij poszczególne elementy wykresu (w tym znajdujące się na nim punkty) różnymi kolorami (granice poszczególnych przedziałów w tym samym kolorze) i formamy linii (ciągła dla prostej regresjii, przerywane dla granic przedziałów),\n",
    "- dodaj do figury legendę opisującą wszystkie elementy wykresu. Umieść w legendzie informację o wyznaczonym równaniu regresji (współczynniki sformatowane do 4 miejsc po przecinku) oraz wartości współczynnika ufności (sformatowane do 3 miejsc po przecinku) dla którego były wyznaczane przedziały."
   ]
  },
  {
   "cell_type": "code",
   "execution_count": 8,
   "id": "ba20dca1-0a89-43df-8f3f-2479ad35791f",
   "metadata": {
    "deletable": false,
    "nbgrader": {
     "cell_type": "code",
     "checksum": "42c2d66c7768fc511255c663350fa99a",
     "grade": true,
     "grade_id": "cell-ecb421dfbf3d197e",
     "locked": false,
     "points": 5,
     "schema_version": 3,
     "solution": true,
     "task": false
    },
    "tags": []
   },
   "outputs": [
    {
     "data": {
      "image/png": "[encoded data removed]",
      "text/plain": [
       "<Figure size 1200x1200 with 1 Axes>"
      ]
     },
     "metadata": {},
     "output_type": "display_data"
    }
   ],
   "source": [
    "# Wykres\n",
    "alpha = 0.05\n",
    "a, b , results = linear_regression_estimation(data, alpha)\n",
    "\n",
    "plt.figure(figsize=(12,12), facecolor='white')\n",
    "\n",
    "sns.scatterplot(data=data, x='x', y='y', color='grey', label='data')\n",
    "\n",
    "sns.lineplot(data=results, x='x', y='y_reg', color='red', label=f'Regression line: y={a:.4f}x + {b:4f}')\n",
    "\n",
    "sns.lineplot(data=results, x='x', y='ci_high', color='blue', linestyle='--', label=f'{((1-alpha) * 100):.0f}% confidance interval')\n",
    "sns.lineplot(data=results, x='x', y='ci_low', color='blue', linestyle='--')\n",
    "\n",
    "sns.lineplot(data=results, x='x', y='pi_high', color='green', linestyle='--')\n",
    "sns.lineplot(data=results, x='x', y='pi_low', color='green', linestyle='--', label=f'{((1-alpha) * 100):.0f}% prediction interval')\n",
    "\n",
    "plt.title('Linear regression plot of test points with confidence and prediction intervals')\n",
    "plt.xlabel('x')\n",
    "plt.ylabel('y')\n",
    "\n",
    "\n",
    "plt.show()"
   ]
  },
  {
   "cell_type": "markdown",
   "id": "15f53973-7a84-4ec0-b35f-66d5a4eb9a04",
   "metadata": {
    "deletable": false,
    "editable": false,
    "nbgrader": {
     "cell_type": "markdown",
     "checksum": "55a6b20a2db0a040bb8bf2182fd5f12e",
     "grade": false,
     "grade_id": "cell-6cf344bb95bb724f",
     "locked": true,
     "schema_version": 3,
     "solution": false,
     "task": false
    },
    "tags": []
   },
   "source": [
    "### Zadanie 8: Estymacja bootstapowa parametrów próby losowej [7 pkt]\n",
    "\n",
    "Przygotuj funkcję `bootstrap_parameter_estimation()`, która korzystając z metody bootstrap będzie dokonywała estymacji przedziałowej podstawowych parametrów próby losowej - wartości oczekiwanej, wariancji i odchylenia standardowego dla danych wejściowych w postaci szeregu szczegółowego zgodnie ze schematem z załączonego do notatnika zestawu wzorów.\n",
    "\n",
    "W obliczeniach skorzystaj z nieobciążonych estymatorów wariancji i odchylenia standardowego.\n",
    "\n",
    "Oprócz zwracanych wartości granic przedziału funkcja powinna wyświetlać następujący komunikat:\n",
    "\n",
    "`P należy do przedziału [X, Y] przy założeniu poziomu ufności 1-𝛼 = Z`\n",
    "\n",
    "gdzie P (symbol lub nazwa estymowanego parametru), X, Y i Z są automatycznie uzupełniane przez funkcję, a X i Y dodatkowo sformatowane w taki sposób, żeby wyświetlały się z dokładnością do 4 miejsc po przecinku.\n",
    "\n",
    "Uwagi do wykonania zadania:\n",
    " - Automatyczne testy zakładają losowanie prób wg następującego schematu - kolejne próby są losowane w pęli for, a funkcja losująca próbę (np. `pd.sample()`) w kolejnych losowaniach ma ustawioną wartość parametru odpowiadającego za ziarno generatora liczb losowych na wartość `random_state`, `random_state+1`, `random_state+2` itd. \n",
    " - Celem zadania jest napisanie funkcji od podstaw, w rozwiązaniu nie należy korzystać z gotowych funkcji służących do estymacji bootstrapowej."
   ]
  },
  {
   "cell_type": "code",
   "execution_count": 9,
   "id": "06922a4f-323d-40d0-9460-b109ef2c560d",
   "metadata": {
    "deletable": false,
    "nbgrader": {
     "cell_type": "code",
     "checksum": "654588146e642e5f79798986d07e8238",
     "grade": false,
     "grade_id": "cell-93982a1f4c5f4ad1",
     "locked": false,
     "schema_version": 3,
     "solution": true,
     "task": false
    },
    "tags": []
   },
   "outputs": [],
   "source": [
    "def bootstrap_parameter_estimation(data, parameter, number_of_samples, alpha, random_state):\n",
    "    \"\"\"\n",
    "    Parameters\n",
    "    -------\n",
    "    data: DataFrame\n",
    "        Tablica zawierająca domyślny indeks i pojedynczą kolumnę \"X\" z wartościami próby losowej.\n",
    "    parameter: str\n",
    "        W zależności od estymowanego parametru przyjmuje wartość \"mean\", \"var\" lub \"std\".\n",
    "    number_of_samples: int\n",
    "        Liczba prób bootstrapowych.\n",
    "    alpha: float\n",
    "        Wartość określająca poziom istotności.\n",
    "    random_state: int\n",
    "        Ziarno generatora liczb pseudolosowych.\n",
    "    \n",
    "    Returns\n",
    "    -------\n",
    "    parameter_low: float\n",
    "        Dolna granica wyliczonego przedziału ufności.\n",
    "    parameter_high: float\n",
    "        Górna granica wyliczonego przedziału ufności.\n",
    "    \"\"\"       \n",
    "\n",
    "    bootstrap_estimates = []\n",
    "    n = len(data['X'])\n",
    "    \n",
    "    for i in range(number_of_samples):\n",
    "        bootstrap_sample = data.sample(n=n, replace=True, random_state=random_state+i, ignore_index=True)\n",
    "\n",
    "        if parameter == 'mean':\n",
    "            estimate = bootstrap_sample['X'].mean()\n",
    "        elif parameter == 'var':\n",
    "            estimate = bootstrap_sample['X'].var()\n",
    "        elif parameter == 'std':\n",
    "            estimate = bootstrap_sample['X'].std()\n",
    "        else:\n",
    "            raise ValueError('Parameter must be \"mean\", \"var\" or \"std\"')\n",
    "            \n",
    "        bootstrap_estimates.append(estimate)\n",
    "\n",
    "        \n",
    "    parameter_low = np.quantile(bootstrap_estimates, alpha / 2)\n",
    "    parameter_high = np.quantile(bootstrap_estimates, 1 - (alpha / 2))\n",
    "\n",
    "    print(f'{parameter} należy do przedziału [{parameter_low:.4f}, {parameter_high:.4f}] przy założeniu poziomu ufności 1-𝛼 = {1-alpha}')\n",
    "    \n",
    "    return parameter_low, parameter_high\n",
    "    "
   ]
  },
  {
   "cell_type": "code",
   "execution_count": 10,
   "id": "a5562634-c85e-4132-ae25-0ee07643a9ce",
   "metadata": {
    "deletable": false,
    "editable": false,
    "nbgrader": {
     "cell_type": "code",
     "checksum": "b5becdd1ce325271001bdd066fba55c0",
     "grade": true,
     "grade_id": "cell-8d11ac5738ce3f52",
     "locked": true,
     "points": 7,
     "schema_version": 3,
     "solution": false,
     "task": false
    },
    "tags": []
   },
   "outputs": [
    {
     "name": "stdout",
     "output_type": "stream",
     "text": [
      "mean należy do przedziału [4.9136, 5.0586] przy założeniu poziomu ufności 1-𝛼 = 0.95\n",
      "var należy do przedziału [0.0098, 0.0501] przy założeniu poziomu ufności 1-𝛼 = 0.98\n",
      "std należy do przedziału [0.1185, 0.2069] przy założeniu poziomu ufności 1-𝛼 = 0.9\n"
     ]
    }
   ],
   "source": [
    "# Komórka testowa\n",
    "assert np.all(np.isclose(bootstrap_parameter_estimation(test_data_1, \"mean\", 1000, 0.05, 34), (4.913578501079754, 5.058598650238277)))\n",
    "assert np.all(np.isclose(bootstrap_parameter_estimation(test_data_1, \"var\", 2000, 0.02, 31), (0.009780029754528753, 0.05012098474121563)))\n",
    "assert np.all(np.isclose(bootstrap_parameter_estimation(test_data_1, \"std\", 1500, 0.1, 39), (0.11848597559111698, 0.20690074715252046)))"
   ]
  },
  {
   "cell_type": "markdown",
   "id": "a05d2c56-3869-4b8e-9e90-c6107eb89f9f",
   "metadata": {
    "deletable": false,
    "editable": false,
    "nbgrader": {
     "cell_type": "markdown",
     "checksum": "0071b4ca689a2f773cee070bbee3cc55",
     "grade": false,
     "grade_id": "cell-73cc86ed778c80a4",
     "locked": true,
     "schema_version": 3,
     "solution": false,
     "task": false
    },
    "tags": []
   },
   "source": [
    "### Zadanie 9: Estymacja bootstrapowa za pomocą dedykowanych funkcji [6 pkt]\n",
    "\n",
    "Korzystając z funkcji `scipy.stats.bootstrap()` dokonaj estymacji przedziałowej następujących parametrów na poziomie istotności 1-alpha = 0.98:\n",
    " - na podstawie zmiennej `test_data_1`: średnia, wariancja, odchylenie standardowe,\n",
    " - na podstawie zmiannej `test_data_2`: współczynnik korelacji liniowej Pearsona, współczynniki równania regresji liniowej a i b.\n",
    " \n",
    "Wyniki zapisz do zmiennych o nazwach `mean_ci`, `var_ci`, `std_ci`, `r_ci`, `a_ci` oraz `b_ci` zawierających listy z dolnymi i górnymi granicami przedziałów ufności. Podczas obliczania wartości każdego z parametrów ustaw wartość argumentu funkcji `scipy.stats.bootstrap()` odpowiadającego za ziarno generatora liczb losowych na 25.\n",
    "\n",
    "Uwagi do wykonania zadania:\n",
    " - Automatyczne testy przewidują obliczenie wartości wariancji i odchylenia standardowego dla wartości parametru `ddof=0`."
   ]
  },
  {
   "cell_type": "code",
   "execution_count": 11,
   "id": "50930b96-d1da-4f65-b62a-232caeb9538d",
   "metadata": {
    "deletable": false,
    "nbgrader": {
     "cell_type": "code",
     "checksum": "937c972a11cbd92457d8080e0fa4e269",
     "grade": false,
     "grade_id": "cell-2b7dd70bd1282c22",
     "locked": false,
     "schema_version": 3,
     "solution": true,
     "task": false
    },
    "tags": []
   },
   "outputs": [],
   "source": [
    "# mean\n",
    "def mean_estimator(data):\n",
    "    return data.mean()\n",
    "\n",
    "mean_bootstrap = sp.stats.bootstrap((test_data_1,), mean_estimator, confidence_level=0.98, random_state=25)\n",
    "mean_ci = (mean_bootstrap.confidence_interval.low[0], mean_bootstrap.confidence_interval.high[0])"
   ]
  },
  {
   "cell_type": "code",
   "execution_count": 12,
   "id": "1e75385b-77b3-4171-8070-cbb28d2d4f65",
   "metadata": {
    "deletable": false,
    "nbgrader": {
     "cell_type": "code",
     "checksum": "f24f3df34becd2cac3547a9b8d0011eb",
     "grade": false,
     "grade_id": "cell-dc1bee32fb99d590",
     "locked": false,
     "schema_version": 3,
     "solution": true,
     "task": false
    },
    "tags": []
   },
   "outputs": [],
   "source": [
    "# var\n",
    "def var_estimator(data):\n",
    "    return data.var()\n",
    "\n",
    "var_bootstrap = sp.stats.bootstrap((test_data_1,), var_estimator, confidence_level=0.98, random_state=25)\n",
    "var_ci = (var_bootstrap.confidence_interval.low[0], var_bootstrap.confidence_interval.high[0])"
   ]
  },
  {
   "cell_type": "code",
   "execution_count": 13,
   "id": "d0904a51-ae49-4de4-be92-98c271f7eb5c",
   "metadata": {
    "deletable": false,
    "nbgrader": {
     "cell_type": "code",
     "checksum": "a96e9852db97d6966c0afe163e64aba5",
     "grade": false,
     "grade_id": "cell-5e1ec0872b87a59a",
     "locked": false,
     "schema_version": 3,
     "solution": true,
     "task": false
    },
    "tags": []
   },
   "outputs": [],
   "source": [
    "# std\n",
    "def std_estimator(data):\n",
    "    return data.std()\n",
    "\n",
    "std_bootstrap = sp.stats.bootstrap((test_data_1,), std_estimator, confidence_level=0.98, random_state=25)\n",
    "std_ci = (std_bootstrap.confidence_interval.low[0], std_bootstrap.confidence_interval.high[0])"
   ]
  },
  {
   "cell_type": "code",
   "execution_count": 14,
   "id": "ea962b12-7242-462b-aabb-7077dc3ada54",
   "metadata": {
    "deletable": false,
    "nbgrader": {
     "cell_type": "code",
     "checksum": "359d1e8106fb0a03172d223ca4f80239",
     "grade": false,
     "grade_id": "cell-2b448c733aa676cc",
     "locked": false,
     "schema_version": 3,
     "solution": true,
     "task": false
    },
    "tags": []
   },
   "outputs": [],
   "source": [
    "# r\n",
    "def pearsonr_estimator(x_val, y_val):\n",
    "    return sp.stats.pearsonr(x_val, y_val).statistic\n",
    "\n",
    "\n",
    "r_bootstrap = sp.stats.bootstrap((test_data_2['x'], test_data_2['y']), pearsonr_estimator, confidence_level=0.98, random_state=25, paired=True)\n",
    "r_ci = (r_bootstrap.confidence_interval.low, r_bootstrap.confidence_interval.high)"
   ]
  },
  {
   "cell_type": "code",
   "execution_count": 15,
   "id": "1d19d25c-5a29-47a7-8487-c9f81d45c9dc",
   "metadata": {
    "deletable": false,
    "nbgrader": {
     "cell_type": "code",
     "checksum": "2547a3d85787cc964b6a7f4d4d383569",
     "grade": false,
     "grade_id": "cell-e968f3a0c54deed1",
     "locked": false,
     "schema_version": 3,
     "solution": true,
     "task": false
    },
    "tags": []
   },
   "outputs": [],
   "source": [
    "# a\n",
    "def a_estimator(x_val, y_val):\n",
    "    return sp.stats.linregress(x_val, y_val).slope\n",
    "\n",
    "a_bootstrap = sp.stats.bootstrap((test_data_2['x'], test_data_2['y']), a_estimator, confidence_level=0.98, random_state=25, paired=True)\n",
    "a_ci = (a_bootstrap.confidence_interval.low, a_bootstrap.confidence_interval.high)"
   ]
  },
  {
   "cell_type": "code",
   "execution_count": 16,
   "id": "925a2b65-c16d-4e89-b3d4-6287cbf2f51e",
   "metadata": {
    "deletable": false,
    "nbgrader": {
     "cell_type": "code",
     "checksum": "5b5b668d5b80f73c0b9eebb51079db43",
     "grade": false,
     "grade_id": "cell-0b198ef3de71c0e4",
     "locked": false,
     "schema_version": 3,
     "solution": true,
     "task": false
    },
    "tags": []
   },
   "outputs": [],
   "source": [
    "# b\n",
    "def b_estimator(x_val, y_val):\n",
    "    return sp.stats.linregress(x_val, y_val).intercept\n",
    "\n",
    "b_bootstrap = sp.stats.bootstrap((test_data_2['x'], test_data_2['y']), b_estimator, confidence_level=0.98, random_state=25, paired=True)\n",
    "b_ci = (b_bootstrap.confidence_interval.low, b_bootstrap.confidence_interval.high)"
   ]
  },
  {
   "cell_type": "code",
   "execution_count": 17,
   "id": "97b9e2c2-f7f6-425b-8b3f-cf79d9ebdc22",
   "metadata": {
    "deletable": false,
    "editable": false,
    "nbgrader": {
     "cell_type": "code",
     "checksum": "158e5e76f2ecbdcc0310040239b48487",
     "grade": true,
     "grade_id": "cell-a2d98f9e8754891c",
     "locked": true,
     "points": 6,
     "schema_version": 3,
     "solution": false,
     "task": false
    },
    "tags": []
   },
   "outputs": [],
   "source": [
    "# Komórka testowa\n",
    "assert np.all(np.isclose(mean_ci, (4.890098551749027, 5.063500727815335)))\n",
    "assert np.all(np.isclose(var_ci, (0.013001391902892368, 0.05670851692597062)))\n",
    "assert np.all(np.isclose(std_ci, (0.11423521149909441, 0.23829111055240196)))\n",
    "assert np.all(np.isclose(r_ci, (0.9156715777126913, 0.9822743695601276)))\n",
    "assert np.all(np.isclose(a_ci, (1.792948341896073, 2.3282111601384945)))\n",
    "assert np.all(np.isclose(b_ci, (-5.700934784848322, -3.4292283266002834)))"
   ]
  }
 ],
 "metadata": {
  "kernelspec": {
   "display_name": "Python 3 (ipykernel)",
   "language": "python",
   "name": "python3"
  },
  "language_info": {
   "codemirror_mode": {
    "name": "ipython",
    "version": 3
   },
   "file_extension": ".py",
   "mimetype": "text/x-python",
   "name": "python",
   "nbconvert_exporter": "python",
   "pygments_lexer": "ipython3",
   "version": "3.12.0"
  }
 },
 "nbformat": 4,
 "nbformat_minor": 5
}
